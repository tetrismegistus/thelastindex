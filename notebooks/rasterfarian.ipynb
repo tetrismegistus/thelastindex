{
 "cells": [
  {
   "cell_type": "markdown",
   "id": "7a43da61-2489-47d3-bb28-fa7e4c364496",
   "metadata": {},
   "source": [
    "# I speak rasterfarian"
   ]
  },
  {
   "cell_type": "code",
   "execution_count": null,
   "id": "da226a2f-0564-4a9a-a616-66664a8ace6b",
   "metadata": {},
   "outputs": [],
   "source": []
  }
 ],
 "metadata": {
  "kernelspec": {
   "display_name": "Python [conda env:base] *",
   "language": "python",
   "name": "conda-base-py"
  },
  "language_info": {
   "codemirror_mode": {
    "name": "ipython",
    "version": 3
   },
   "file_extension": ".py",
   "mimetype": "text/x-python",
   "name": "python",
   "nbconvert_exporter": "python",
   "pygments_lexer": "ipython3",
   "version": "3.12.7"
  }
 },
 "nbformat": 4,
 "nbformat_minor": 5
}
